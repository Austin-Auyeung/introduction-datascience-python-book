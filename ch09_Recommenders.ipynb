{
 "cells": [
  {
   "cell_type": "markdown",
   "metadata": {},
   "source": [
    "# Chapter 8: Recommender Systems.\n",
    "\n",
    "In this notebook we will see how to create a recommender system. To\n",
    "this end we will explore different properties of recommender systems, develope and evaluate a collaborative recommender system.\n",
    "\n"
   ]
  },
  {
   "cell_type": "code",
   "execution_count": 1,
   "metadata": {},
   "outputs": [],
   "source": [
    "import matplotlib.pylab as plt\n",
    "\n",
    "%matplotlib inline \n",
    "plt.style.use('seaborn-whitegrid')\n",
    "plt.rc('text', usetex=True)\n",
    "plt.rc('font', family='times')\n",
    "plt.rc('xtick', labelsize=10) \n",
    "plt.rc('ytick', labelsize=10) \n",
    "plt.rc('font', size=12) "
   ]
  },
  {
   "cell_type": "markdown",
   "metadata": {},
   "source": [
    "## Data description\n",
    "\n",
    "We will work with the well known MovieLens dataset (http://grouplens.org/datasets/movielens/). This dataset was initially constructed to support participants in the Netflix Prize. Today, we can find several versions of this dataset with different amout of data, from 100k samples version to 20m sample version.\n",
    "Although performance on bigger dataset is expected to be better, we will work with the smallest dataset: MovieLens *100K Dataset (ml-100k-zip)*. Working with this lite version has the benefit of less computational costs, while we will also get the skills required on user-based recommender systems.\n",
    "\n",
    "With a unix machine the dataset can be downloaded with the following code:"
   ]
  },
  {
   "cell_type": "code",
   "execution_count": 2,
   "metadata": {},
   "outputs": [
    {
     "name": "stdout",
     "output_type": "stream",
     "text": [
      "zsh:1: command not found: wget\n",
      "unzip:  cannot find or open ml-100k.zip, ml-100k.zip.zip or ml-100k.zip.ZIP.\n"
     ]
    }
   ],
   "source": [
    "!wget http://files.grouplens.org/datasets/movielens/ml-100k.zip \n",
    "!unzip ml-100k.zip -d \"files/ch09/\""
   ]
  },
  {
   "cell_type": "markdown",
   "metadata": {},
   "source": [
    "If you are working with a windows machine, please go to the website and download the 100k version and extract it to the subdirectory named \"files/ch8/ml-100k/\""
   ]
  },
  {
   "cell_type": "markdown",
   "metadata": {},
   "source": [
    "Once you have downloaded and unzipped the file into a directory, you can create a DataFrame with the following code:"
   ]
  },
  {
   "cell_type": "code",
   "execution_count": 3,
   "metadata": {},
   "outputs": [
    {
     "name": "stdout",
     "output_type": "stream",
     "text": [
      "The database has 100000 observed ratings\n",
      "The database has  943  users\n",
      "The database has  1682  movies\n",
      "   user_id         title  movie_id  rating release_date sex  age\n",
      "0      196  Kolya (1996)       242       3  24-Jan-1997   M   49\n",
      "1      305  Kolya (1996)       242       5  24-Jan-1997   M   23\n",
      "2        6  Kolya (1996)       242       4  24-Jan-1997   M   42\n",
      "3      234  Kolya (1996)       242       4  24-Jan-1997   M   60\n",
      "4       63  Kolya (1996)       242       3  24-Jan-1997   M   31\n"
     ]
    }
   ],
   "source": [
    "#NETFLIX REAL 50.000.000 usuaris and 100.000 items\n",
    "import pandas as pd\n",
    "import numpy as np\n",
    "import math\n",
    "import matplotlib.pylab as plt\n",
    "from math import isnan\n",
    "from tqdm import tqdm # conda install -y tqdm\n",
    "\n",
    "\n",
    "# Load Data set\n",
    "u_cols = ['user_id', 'age', 'sex', 'occupation', 'zip_code']\n",
    "users = pd.read_csv('files/ch09/ml-100k/u.user', sep='|', names=u_cols)\n",
    "\n",
    "r_cols = ['user_id', 'movie_id', 'rating', 'unix_timestamp']\n",
    "ratings = pd.read_csv('files/ch09/ml-100k/u.data', sep='\\t', names=r_cols)\n",
    "\n",
    "# the movies file contains columns indicating the movie's genres\n",
    "# let's only load the first three columns of the file with usecols\n",
    "m_cols = ['movie_id', 'title', 'release_date']\n",
    "movies = pd.read_csv('files/ch09/ml-100k/u.item', sep='|', names=m_cols, usecols=range(3), encoding='latin-1')\n",
    "\n",
    "# Construcció del DataFrame\n",
    "data = pd.merge(pd.merge(ratings, users), movies)\n",
    "data = data[['user_id','title', 'movie_id','rating','release_date','sex','age']]\n",
    "\n",
    "\n",
    "\n",
    "n_users = data.user_id.nunique()\n",
    "n_items = data.movie_id.nunique()\n",
    "\n",
    "\n",
    "print(\"The database has \"+ str(data.shape[0]) +\" observed ratings\")\n",
    "print(\"The database has \", data.user_id.nunique(),\" users\")\n",
    "print(\"The database has \", data.movie_id.nunique(), \" movies\")\n",
    "print(data.head())"
   ]
  },
  {
   "cell_type": "markdown",
   "metadata": {},
   "source": [
    "If you explore the dataset in detail, you will see that it  consists of:\n",
    "<ul>\n",
    "<li>1,000,209 ratings from 6040 users of 3706 movies. Ratings are from 1 to 5.</li>\n",
    "<li>Each user has rated at least 20 movies.</li>\n",
    "<li>Simple demographic info for the users (age, gender, occupation, zip)</li>\n",
    "</ul>"
   ]
  },
  {
   "cell_type": "markdown",
   "metadata": {},
   "source": [
    "## Building a Collaborative Filtering (CF) for Movilens dataset\n",
    "The idea behind any recommender system is to suggest or recommend items that are likely to be of interest to the user. If we think on the movielens dataset and a movie recommender system, the goal will consist on recommend those useen movies by a given \"user\" that are more likely to be intersting to him or her. So, the problem can be taken by predicting the ratings for the unseen movies of the given \"user\" and recommend those with the highest predicted rating.\n",
    "\n",
    "<br>The following table ilustrates the problem. This toy dataset consists on 4 users and 4 items.  Users 1, 2 and 3 have seen all the movies while user 3 has only seen Superman and Star Wars. So, the problem consist on prediction which movie, Matrix or Spiderman, will be more likely for the user 4.\n",
    "<table style=\"width:60%\">\n",
    "  <tr>\n",
    "    <td></td>\n",
    "    <td>Superman</td> \n",
    "    <td>Star Wars 1</td>\n",
    "    <td>Matrix</td>\n",
    "    <td>Spiderman</td>\n",
    "    \n",
    "  </tr>\n",
    "  <tr>\n",
    "    <td>user1</td>\n",
    "    <td>3</td> \n",
    "    <td>3.5</td>\n",
    "    <td>4.5</td>\n",
    "    <td>3</td>\n",
    "  </tr>\n",
    "  <tr>\n",
    "    <td>user2</td>\n",
    "    <td>3.5</td> \n",
    "    <td>4</td>\n",
    "    <td>5</td>\n",
    "    <td>5</td>\n",
    "  </tr>\n",
    "  <tr>\n",
    "    <td>user3</td>\n",
    "    <td>3</td> \n",
    "    <td>4</td>\n",
    "    <td>4.5</td>\n",
    "    <td>3</td>\n",
    "  </tr>\n",
    "  <tr>\n",
    "    <td>user4</td>\n",
    "    <td>3.5</td> \n",
    "    <td>5</td>\n",
    "    <td><font color=\"red\"><b>¿?</b></font></td>\n",
    "    <td><font color=\"red\"><b>¿?</b></font></td>\n",
    "  </tr>\n",
    "</table>\n",
    "<br><br><br><br>\n",
    "\n",
    "\n",
    "In order to create a collaborative recommender system we will have to define: 1) a prediction function, 2) a user-similarity function and 3) an evaluation function."
   ]
  },
  {
   "cell_type": "markdown",
   "metadata": {},
   "source": [
    "### Prediction function:\n",
    "The prediction function behind the CF will be based on the movie ratings from similar users.\n",
    "So, in order to recommend a movie, $p$, from a set of movies, $P$, to a given user, $a$, we first need to see the set of users, $B$, who have already seen $p$. Then, we need to see the taste similarity between these users in $B$ and user $a$. The most simple prediction function for a user $a$ and movie $p$ can be defined as follows:\n",
    "\n",
    "$$pred(a,p) = \\frac{\\sum_{b \\in B}{sim(a,b)*(r_{b,p})}}{\\sum_{b \\in B}{sim(a,b)}}$$\n",
    "\n",
    "where $sim(a,b)$ is the similarity between user $a$ and user $b$,  $B$ is the set of users in the dataset that have already seen $p$ and $r_{b,p}$ is the rating of $p$ by $b$."
   ]
  },
  {
   "cell_type": "markdown",
   "metadata": {},
   "source": [
    "<h3>Users similarity</h3>\n",
    "The computation of the similarity between items is one of the most critical steps in the CF algorithms. The basic idea behind the similarity computation between two users $a$ and $b$, is that we can first isolate the set $P$ of items rated by both users, and then apply a similarity computation technique to determine the similarity.\n",
    "\n",
    "The set of *common_movies* can be obtained with the following code:"
   ]
  },
  {
   "cell_type": "code",
   "execution_count": 4,
   "metadata": {},
   "outputs": [
    {
     "name": "stdout",
     "output_type": "stream",
     "text": [
      "\n",
      "Number of common movies 96 \n",
      "\n",
      "                                    title  rating\n",
      "14                           Kolya (1996)       5\n",
      "940                Raising Arizona (1987)       4\n",
      "1306  Truth About Cats & Dogs, The (1996)       5\n",
      "2677                          Babe (1995)       1\n",
      "3073   Four Weddings and a Funeral (1994)       3\n",
      "                                    title  rating\n",
      "2                            Kolya (1996)       4\n",
      "885                Raising Arizona (1987)       5\n",
      "1255  Truth About Cats & Dogs, The (1996)       2\n",
      "2636                          Babe (1995)       4\n",
      "3022   Four Weddings and a Funeral (1994)       3\n"
     ]
    }
   ],
   "source": [
    "# dataframe with the data from user 1\n",
    "data_user_1 = data[data.user_id==1]\n",
    "# dataframe with the data from user 2\n",
    "data_user_2 = data[data.user_id==6]\n",
    "# We first compute the set of common movies\n",
    "common_movies = set(data_user_1.movie_id).intersection(data_user_2.movie_id)\n",
    "print(\"\\nNumber of common movies\",len(common_movies),'\\n')\n",
    "\n",
    "# create a subdataframe that only contains the common movies between users\n",
    "mask = (data_user_1.movie_id.isin(common_movies))\n",
    "data_user_1 = data_user_1[mask]\n",
    "print(data_user_1[['title','rating']].head())\n",
    "\n",
    "mask = (data_user_2.movie_id.isin(common_movies))\n",
    "data_user_2 = data_user_2[mask]\n",
    "print(data_user_2[['title','rating']].head())"
   ]
  },
  {
   "cell_type": "markdown",
   "metadata": {},
   "source": [
    "Once the set of ratings for all movies common to the two users has been obtained, we can compute the user similarity. These are some of the most common similarity functions used in CF methods: \n",
    "\n",
    "   <ul>\n",
    "    <li>Euclidean distance</li>\n",
    "    $$sim(a,b) = \\sqrt{\\sum_{p \\in P}{(r_{a,p} - r_{b,p})^2}}$$\n",
    "    <br>\n",
    "    <li>Pearson Correlation</li>\n",
    "    $$sim(a,b) = \\frac{\\sum_{p\\in P} (r_{a,p}-\\bar{r_a})(r_{b,p}-\\bar{r_b})}{\\sqrt{\\sum_{p \\in P}(r_{a,p}-\\bar{r_a})²}\\sqrt{\\sum_{p \\in P}(r_{b,p}-\\bar{r_b})²}}$$\n",
    "    <br>\n",
    "    <li>Cosine distance</li>\n",
    "    $$ sim(a,b) = \\frac{\\vec{a}· \\vec{b}}{|\\vec{a}| * |\\vec{b}|}$$\n",
    "    <br>\n",
    "    </ul>\n",
    "  \n",
    "<br>\n",
    "Where: \n",
    "\n",
    "* $sim(a,b)$ is the similarity between user \"a\" and user \"b\"\n",
    "* $P$ is the set of common rated movies by user \"a\" and \"b\"\n",
    "* $r_{a,p}$ is the rating of movie \"p\" by user \"a\"\n",
    "* $\\bar{r_a}$ is the mean rating given by user \"a\"\n",
    "\n",
    "<br>\n",
    "\n",
    "<h4>Some issues to take into accout</h4>\n",
    "<ul>\n",
    "<li>Pearson Correlation used to work better than euclidean distance since it is based more on the ranking than on the values.</li>\n",
    "<li>Cosine distance is usually used when our data is binary/unary, i.e. like vs. not like  or buy vs. not buy.</li>\n",
    "<li>What happens if two users have very few items in common?</li>\n",
    "</ul>\n",
    "\n"
   ]
  },
  {
   "cell_type": "markdown",
   "metadata": {},
   "source": [
    "Let's define a function to compute the users similarity "
   ]
  },
  {
   "cell_type": "code",
   "execution_count": 5,
   "metadata": {
    "scrolled": false
   },
   "outputs": [],
   "source": [
    "from scipy.stats import pearsonr\n",
    "from scipy.spatial.distance import euclidean\n",
    "\n",
    "# Returns a user-based similarity score for user_1 and user_2\n",
    "def user_similarity(dataFrame, user_1, user_2, min_common_items = 1, method = 'pearson'):\n",
    "    # GET MOVIES OF USER1\n",
    "    movies_user1 = dataFrame[dataFrame['user_id'] == user_1 ]\n",
    "    # GET MOVIES OF USER2\n",
    "    movies_user2 = dataFrame[dataFrame['user_id'] == user_2 ]\n",
    "    \n",
    "    # FIND SHARED FILMS\n",
    "    df_shared = pd.merge(movies_user1, movies_user2, on = 'movie_id')  \n",
    "    \n",
    "    if(df_shared.shape[0]<=min_common_items):\n",
    "        return 0\n",
    "    \n",
    "    if method =='pearson':\n",
    "        res=pearsonr(df_shared['rating_x'],df_shared['rating_y'])[0]\n",
    "        if(np.isnan(res)):\n",
    "            return 0\n",
    "        return res\n",
    "    \n",
    "    elif method =='euclidean':\n",
    "        return 1.0/(1.0+euclidean(df_shared['rating_x'],df_shared['rating_y'])) \n",
    "    else:\n",
    "        print(\"method not defined\")\n",
    "        return 0"
   ]
  },
  {
   "cell_type": "markdown",
   "metadata": {},
   "source": [
    "Let's see how similars are user 1 with 8 and 1 with 31"
   ]
  },
  {
   "cell_type": "code",
   "execution_count": 6,
   "metadata": {},
   "outputs": [
    {
     "name": "stdout",
     "output_type": "stream",
     "text": [
      "Euclidean Similarity 0.1566130288262323\n",
      "Pearson Similarity 0.6920863660773593\n"
     ]
    }
   ],
   "source": [
    "user_id_1, user_id_2 = 1, 8\n",
    "print(\"Euclidean Similarity\",user_similarity(data,user_id_1,user_id_2,method = 'euclidean') )\n",
    "print(\"Pearson Similarity\",user_similarity(data,user_id_1,user_id_2) )"
   ]
  },
  {
   "cell_type": "code",
   "execution_count": 7,
   "metadata": {},
   "outputs": [
    {
     "name": "stdout",
     "output_type": "stream",
     "text": [
      "Euclidean Similarity 0.1757340838011157\n",
      "Pearson Similarity -0.09221388919541466\n"
     ]
    }
   ],
   "source": [
    "user_id_1, user_id_2 = 1, 31\n",
    "print(\"Euclidean Similarity\",user_similarity(data,user_id_1,user_id_2,method = 'euclidean') )\n",
    "print(\"Pearson Similarity\",user_similarity(data,user_id_1,user_id_2) )"
   ]
  },
  {
   "cell_type": "code",
   "execution_count": 8,
   "metadata": {},
   "outputs": [
    {
     "data": {
      "image/png": "[encoded data removed]",
      "text/plain": [
       "<Figure size 432x288 with 1 Axes>"
      ]
     },
     "metadata": {},
     "output_type": "display_data"
    }
   ],
   "source": [
    "user_id_1, user_id_2 = 1, 8\n",
    "movies_user1=data[data['user_id'] ==user_id_1 ][['user_id','movie_id','rating']]\n",
    "movies_user2=data[data['user_id'] ==user_id_2 ][['user_id','movie_id','rating']]\n",
    "    \n",
    "# FIND SHARED FILMS\n",
    "rep=pd.merge(movies_user1 ,movies_user2,on='movie_id')\n",
    "x= rep.rating_x + np.random.normal(loc=0.0, scale=0.1,size=len(rep.rating_x))\n",
    "y= rep.rating_y +np.random.normal(loc=0.0, scale=0.1,size=len(rep.rating_y))\n",
    "    \n",
    "a=rep.groupby(['rating_x', 'rating_y']).size()\n",
    "x=[]\n",
    "y=[]\n",
    "s=[]\n",
    "for item,b in a.iteritems():\n",
    "    x.append(item[0])\n",
    "    y.append(item[1])\n",
    "    s.append(b*30)\n",
    "\n",
    "fig = plt.figure(figsize=(6,4))\n",
    "plt.scatter(x,y, s=s)\n",
    "plt.xlabel('Rating User 1')\n",
    "plt.ylabel('Rating User '+str(8))\n",
    "plt.axis([0.5,5.5,0.5,5.5])\n",
    "plt.savefig(\"corre18.png\",dpi= 300, bbox_inches='tight')\n",
    "plt.show()"
   ]
  },
  {
   "cell_type": "markdown",
   "metadata": {},
   "source": [
    "And, with user 31:"
   ]
  },
  {
   "cell_type": "code",
   "execution_count": 9,
   "metadata": {},
   "outputs": [
    {
     "data": {
      "image/png": "[encoded data removed]",
      "text/plain": [
       "<Figure size 432x288 with 1 Axes>"
      ]
     },
     "metadata": {},
     "output_type": "display_data"
    }
   ],
   "source": [
    "user_id_1, user_id_2 = 1, 8\n",
    "movies_user1=data[data['user_id'] ==user_id_1 ][['user_id','movie_id','rating']]\n",
    "movies_user2=data[data['user_id'] ==user_id_2 ][['user_id','movie_id','rating']]\n",
    "    \n",
    "# FIND SHARED FILMS\n",
    "rep=pd.merge(movies_user1 ,movies_user2,on='movie_id')\n",
    "x= rep.rating_x + np.random.normal(loc=0.0, scale=0.1,size=len(rep.rating_x))\n",
    "y= rep.rating_y +np.random.normal(loc=0.0, scale=0.1,size=len(rep.rating_y))\n",
    "    \n",
    "a=rep.groupby(['rating_x', 'rating_y']).size()\n",
    "x=[]\n",
    "y=[]\n",
    "s=[]\n",
    "\n",
    "fig = plt.figure(figsize=(6,4))\n",
    "for item,b in a.iteritems():\n",
    "    x.append(item[0])\n",
    "    y.append(item[1])\n",
    "    s.append(b*30)\n",
    "plt.scatter(x,y, s=s)\n",
    "plt.xlabel('Rating User 1')\n",
    "plt.ylabel('Rating User '+str(31))\n",
    "plt.axis([0.5,5.5,0.5,5.5])\n",
    "plt.savefig(\"corre131.png\",dpi= 300, bbox_inches='tight')\n",
    "plt.show()\n"
   ]
  },
  {
   "cell_type": "markdown",
   "metadata": {},
   "source": [
    "<h3>Evaluation: performance criterion</h3>\n",
    "In order to validate the system, we will divide the dataset into two different sets: one called \\emph{$X\\_train$} containing  $80\\%$ of the data from each user; and another called \\emph{$X\\_test$}, with the remaining $20\\%$ of the data from each user. In the following code we create a function"
   ]
  },
  {
   "cell_type": "code",
   "execution_count": 10,
   "metadata": {},
   "outputs": [
    {
     "name": "stdout",
     "output_type": "stream",
     "text": [
      "Training data_set has 79619 ratings\n",
      "Test data set has 20381 ratings\n"
     ]
    }
   ],
   "source": [
    "def assign_to_set(df):\n",
    "    sampled_ids = np.random.choice(df.index,\n",
    "                                   size=np.int64(np.ceil(df.index.size * 0.2)),\n",
    "                                   replace=False)\n",
    "    df.loc[sampled_ids, 'for_testing'] = True\n",
    "    return df\n",
    "\n",
    "def create_train_test(data,key = 'user_id'):\n",
    "    data['for_testing'] = False\n",
    "    grouped = data.groupby(key, group_keys=False).apply(assign_to_set)\n",
    "    # dataframe used to train our model\n",
    "    data_train = data[grouped.for_testing == False]\n",
    "    # dataframe used to evaluate our model\n",
    "    data_test = data[grouped.for_testing == True]\n",
    "    return data_train, data_test\n",
    "\n",
    "\n",
    "data_train, data_test =  create_train_test(data)\n",
    "\n",
    "print(\"Training data_set has \"+ str(data_train.shape[0]) +\" ratings\")\n",
    "print(\"Test data set has \"+ str(data_test.shape[0]) +\" ratings\")"
   ]
  },
  {
   "cell_type": "markdown",
   "metadata": {},
   "source": [
    "\n",
    "Once the data is divided in these sets, we can build a model with the **training set** and evaluate its performance using the **test set**. In our case, the evaluation will be performed using the standard RMSE:"
   ]
  },
  {
   "cell_type": "code",
   "execution_count": 11,
   "metadata": {},
   "outputs": [],
   "source": [
    "def compute_rmse(y_pred, y_true):\n",
    "    \"\"\" Compute Root Mean Squared Error. \"\"\"\n",
    "    return np.sqrt(np.mean(np.power(y_pred - y_true, 2)))"
   ]
  },
  {
   "cell_type": "markdown",
   "metadata": {},
   "source": [
    "Instead, we can use ranking measures such us Average Precision."
   ]
  },
  {
   "cell_type": "code",
   "execution_count": 12,
   "metadata": {},
   "outputs": [],
   "source": [
    "def precision(recommended_items, relevant_items):\n",
    "    is_relevant = np.in1d(recommended_items, relevant_items, assume_unique=True)\n",
    "    precision_score = np.sum(is_relevant, dtype=np.float32) / len(is_relevant)\n",
    "    \n",
    "    return precision_score\n",
    "\n",
    "def recall(recommended_items, relevant_items):  \n",
    "    is_relevant = np.in1d(recommended_items, relevant_items, assume_unique=True)\n",
    "    recall_score = np.sum(is_relevant, dtype=np.float32) / relevant_items.shape[0]\n",
    "    \n",
    "    return recall_score\n",
    "\n",
    "def AP(recommended_items, relevant_items):\n",
    "   \n",
    "    is_relevant = np.in1d(recommended_items, relevant_items, assume_unique=True)\n",
    "    # Cumulative sum: precision at 1, at 2, at 3 ...\n",
    "    p_at_k = is_relevant * np.cumsum(is_relevant, dtype=np.float32) / (1 + np.arange(is_relevant.shape[0]))\n",
    "    ap_score = np.sum(p_at_k) / np.min([relevant_items.shape[0], is_relevant.shape[0]])\n",
    "\n",
    "    return ap_score"
   ]
  },
  {
   "cell_type": "markdown",
   "metadata": {},
   "source": [
    "We define the function **evaluate** which computes the Root Mean Square Error (RMSE)."
   ]
  },
  {
   "cell_type": "code",
   "execution_count": 13,
   "metadata": {},
   "outputs": [],
   "source": [
    "def evaluate(recommender_object, train, test, at = 5, thr_relevant= 4, ranking = True):\n",
    "    \"\"\" Perfomance evaluation \"\"\"\n",
    "    \n",
    "    # RMSE evaluation\n",
    "    ids_to_estimate = zip(test.user_id, test.movie_id)\n",
    "    estimated = np.array([recommender_object.predict_score(u,i) if u in train.user_id else 3 for (u,i) in ids_to_estimate ])\n",
    "    real = test.rating.values\n",
    "    rmse = compute_rmse(estimated, real)\n",
    "    \n",
    "    if(ranking):\n",
    "    # Ranking metrics\n",
    "        cumulative_precision = 0.0\n",
    "        cumulative_recall = 0.0\n",
    "        cumulative_AP = 0.0\n",
    "\n",
    "        num_eval = 0\n",
    "\n",
    "        for user_id in tqdm(test.user_id.unique()):\n",
    "\n",
    "            relevant_items = test[(test.user_id==user_id )&( test.rating>=thr_relevant)].movie_id.values\n",
    "\n",
    "            if len(relevant_items)>0:\n",
    "\n",
    "                recommended_items = recommender_object.predict_top(user_id, at=at)\n",
    "                num_eval+=1\n",
    "\n",
    "                cumulative_precision += precision(recommended_items, relevant_items)\n",
    "                cumulative_recall += recall(recommended_items, relevant_items)\n",
    "                cumulative_AP += AP(recommended_items, relevant_items)\n",
    "\n",
    "        cumulative_precision /= num_eval\n",
    "        cumulative_recall /= num_eval\n",
    "        MAP = cumulative_AP / num_eval\n",
    "\n",
    "        print(\"Recommender results are: Precision = {:.4f}, Recall = {:.4f}, MAP = {:.4f}\".format(\n",
    "            cumulative_precision, cumulative_recall, MAP)) \n",
    "    \n",
    "    \n",
    "    return rmse"
   ]
  },
  {
   "cell_type": "markdown",
   "metadata": {},
   "source": [
    "## Recommender System \n",
    "We can define our recommender system with a Python class. This class consists of a constructor and two methods: fit and predict."
   ]
  },
  {
   "cell_type": "markdown",
   "metadata": {},
   "source": [
    "First of all, let's build our naive recommender: A random recommender system."
   ]
  },
  {
   "cell_type": "code",
   "execution_count": 14,
   "metadata": {},
   "outputs": [
    {
     "name": "stdout",
     "output_type": "stream",
     "text": [
      "#Training samples =  100000\n",
      "#Test samples =  100000\n",
      "#Users = 943\n",
      "#Movies = 1682\n"
     ]
    }
   ],
   "source": [
    "data_train, data_test =  create_train_test(data)\n",
    "\n",
    "print(\"#Training samples = \",data.shape[0])\n",
    "print(\"#Test samples = \",data.shape[0])\n",
    "print('#Users =', data.user_id.nunique())\n",
    "print('#Movies =',data.movie_id.nunique())"
   ]
  },
  {
   "cell_type": "code",
   "execution_count": 15,
   "metadata": {},
   "outputs": [],
   "source": [
    "class RandomRecommender():\n",
    "\n",
    "    def fit(self, train):\n",
    "        self.items = train.title.unique()\n",
    "    \n",
    "    def predict_score(self, user_id, movie_id):\n",
    "        '''Given a user_id and item_id predict it score'''\n",
    "        return np.random.uniform(1,5)\n",
    "    \n",
    "    def predict_top(self, user_id, at=5):\n",
    "        recommended_items = np.random.choice(self.items, at)\n",
    "\n",
    "        return recommended_items"
   ]
  },
  {
   "cell_type": "code",
   "execution_count": 16,
   "metadata": {},
   "outputs": [
    {
     "data": {
      "text/plain": [
       "2.7739277641418965"
      ]
     },
     "execution_count": 16,
     "metadata": {},
     "output_type": "execute_result"
    }
   ],
   "source": [
    "reco_random = RandomRecommender()\n",
    "reco_random.fit(data_train)\n",
    "reco_random.predict_score(user_id=2,movie_id=1)"
   ]
  },
  {
   "cell_type": "code",
   "execution_count": 17,
   "metadata": {},
   "outputs": [
    {
     "name": "stderr",
     "output_type": "stream",
     "text": [
      "100%|███████████████████████████████████████| 943/943 [00:00<00:00, 1528.48it/s]"
     ]
    },
    {
     "name": "stdout",
     "output_type": "stream",
     "text": [
      "Recommender results are: Precision = 0.0000, Recall = 0.0000, MAP = 0.0000\n",
      "RMSE for Collaborative Recomender: 1.6171498952759904\n"
     ]
    },
    {
     "name": "stderr",
     "output_type": "stream",
     "text": [
      "\n"
     ]
    }
   ],
   "source": [
    "print('RMSE for Collaborative Recomender: %s' % evaluate(reco_random,data_train,data_test))"
   ]
  },
  {
   "cell_type": "raw",
   "metadata": {},
   "source": [
    "Let's build our first Collaborative Recommender. It should improve our previous Random model, let's see what happens."
   ]
  },
  {
   "cell_type": "code",
   "execution_count": 18,
   "metadata": {},
   "outputs": [],
   "source": [
    "class CollaborativeFiltering:\n",
    "    \"\"\" Collaborative filtering using a custom sim(u,u'). \"\"\"\n",
    "    \n",
    "    def __init__(self, similarity = 'pearson'):\n",
    "        \"\"\" Constructor \"\"\"\n",
    "        self.sim_method=similarity# Gets recommendations for a user by using a weighted average\n",
    "        self.sim = {}\n",
    "\n",
    "    def fit(self, train):\n",
    "        \"\"\" Prepare data structures for estimation. Similarity matrix for users \"\"\"\n",
    "        print(\"Learning...\")\n",
    "        self.train = train\n",
    "        allUsers=set(self.train['user_id'])\n",
    "        \n",
    "        for user_1 in tqdm(allUsers):\n",
    "            self.sim.setdefault(user_1, {})\n",
    "            a = self.train[self.train['user_id']==user_1][['movie_id']]\n",
    "            data_reduced = pd.merge(self.train,a,on='movie_id') # reduce time complexity\n",
    "            for user_2 in allUsers:\n",
    "                if user_1 == user_2: continue\n",
    "                self.sim.setdefault(user_2, {})\n",
    "                if(user_1 in self.sim[user_2]):continue # since is a simetric matrix\n",
    "                sim = user_similarity(data_reduced, user_1, user_2, method = self.sim_method)\n",
    "                \n",
    "                if(sim < 0):\n",
    "                    self.sim[user_1][user_2]=0\n",
    "                    self.sim[user_2][user_1]=0\n",
    "                else:\n",
    "                    self.sim[user_1][user_2]=sim\n",
    "                    self.sim[user_2][user_1]=sim\n",
    "                \n",
    "    def predict_score(self, user_id, movie_id):\n",
    "        totals={}\n",
    "        movie_users=self.train[self.train['movie_id'] ==movie_id]\n",
    "        rating_num=0.0\n",
    "        rating_den=0.0\n",
    "        allUsers=set(movie_users['user_id'])\n",
    "        for other in allUsers:\n",
    "            if user_id==other: continue \n",
    "            rating_num += self.sim[user_id][other] * float(movie_users[movie_users['user_id']==other]['rating'])\n",
    "            rating_den += self.sim[user_id][other]\n",
    "        if rating_den==0: \n",
    "            if self.train.rating[self.train['movie_id']==movie_id].mean()>0:\n",
    "                # return the mean movie rating if there is no similar for the computation\n",
    "                return self.train.rating[self.train['movie_id']==movie_id].mean()\n",
    "            else:\n",
    "                # else return mean user rating \n",
    "                return self.train.rating[self.train['user_id']==user_id].mean()\n",
    "        return rating_num/rating_den\n",
    "\n",
    "    def predict_top(self, user_id, at=5, remove_seen=True):\n",
    "        '''Given a user_id predict its top AT items'''\n",
    "        seen_items = self.train[self.train.user_id==user_id].movie_id.values\n",
    "        unseen_items = set(self.train.movie_id.values) - set(seen_items)\n",
    "\n",
    "        predictions = [(item_id,self.predict_score(user_id,item_id)) for item_id in unseen_items]\n",
    "\n",
    "        sorted_predictions = sorted(predictions, key=lambda x: x[1],reverse = True)[:at]\n",
    "        return [i[0] for i in sorted_predictions]"
   ]
  },
  {
   "cell_type": "code",
   "execution_count": 19,
   "metadata": {},
   "outputs": [
    {
     "name": "stdout",
     "output_type": "stream",
     "text": [
      "Learning...\n"
     ]
    },
    {
     "name": "stderr",
     "output_type": "stream",
     "text": [
      "  0%|                                                   | 0/943 [00:00<?, ?it/s]/Users/santisegui/opt/anaconda3/lib/python3.8/site-packages/scipy/stats/stats.py:4023: PearsonRConstantInputWarning: An input array is constant; the correlation coefficient is not defined.\n",
      "  warnings.warn(PearsonRConstantInputWarning())\n",
      "100%|█████████████████████████████████████████| 943/943 [16:54<00:00,  1.08s/it]\n"
     ]
    },
    {
     "data": {
      "text/plain": [
       "3.845462644171009"
      ]
     },
     "execution_count": 19,
     "metadata": {},
     "output_type": "execute_result"
    }
   ],
   "source": [
    "reco = CollaborativeFiltering()\n",
    "reco.fit(data_train)\n",
    "reco.predict_score(user_id = 2, movie_id = 1)"
   ]
  },
  {
   "cell_type": "code",
   "execution_count": 20,
   "metadata": {},
   "outputs": [
    {
     "data": {
      "text/plain": [
       "[1026, 1189, 1558, 1122, 1191]"
      ]
     },
     "execution_count": 20,
     "metadata": {},
     "output_type": "execute_result"
    }
   ],
   "source": [
    "reco.predict_top(user_id = 2)"
   ]
  },
  {
   "cell_type": "code",
   "execution_count": null,
   "metadata": {},
   "outputs": [
    {
     "name": "stderr",
     "output_type": "stream",
     "text": [
      "  1%|▍                                        | 9/943 [02:13<4:22:06, 16.84s/it]"
     ]
    }
   ],
   "source": [
    "print('RMSE for Collaborative Recomender: %s' % evaluate(reco,data_train,data_test))"
   ]
  },
  {
   "cell_type": "markdown",
   "metadata": {},
   "source": [
    "<div class  = \"alert alert-success\">**EXERCISE 1**<p>\n",
    "Modify the Recomender System using as a prediction function the following equation:\n",
    "$$pred(a,p) = \\bar{r_a} + \\frac{\\sum_{b \\in N}{sim(a,b)*(r_{b,p}-\\bar{r_b})}}{\\sum_{b \\in N}{sim(a,b)}}$$\n",
    "\n",
    "</div>"
   ]
  },
  {
   "cell_type": "code",
   "execution_count": null,
   "metadata": {},
   "outputs": [],
   "source": [
    "class CollaborativeFiltering_Ex1(CollaborativeFiltering):\n",
    "    def predict_score(self, user_id, movie_id, N = 10):\n",
    "        totals={}\n",
    "        movie_users=self.train[self.train['movie_id'] ==movie_id]\n",
    "        rating_num=0.0\n",
    "        rating_den=0.0\n",
    "        allUsers=set(movie_users['user_id'])\n",
    "        top_users = sorted([(self.sim[user_id][other],other) for other in movie_users.user_id.values if other in self.sim[user_id]])[::-1]\n",
    "        for other in allUsers:\n",
    "            if user_id==other: continue \n",
    "            rating_num += self.sim[user_id][other] * float(movie_users[movie_users['user_id']==other]['rating'] - self.train[self.train['user_id']==other].rating.mean())  \n",
    "            rating_den += self.sim[user_id][other]\n",
    "        if rating_den==0: \n",
    "            if self.train.rating[self.train['movie_id']==movie_id].mean()>0:\n",
    "                # return the mean movie rating if there is no similar for the computation\n",
    "                return self.train.rating[self.train['movie_id']==movie_id].mean()\n",
    "            else:\n",
    "                # else return mean user rating \n",
    "                return self.train.rating[self.train['user_id']==user_id].mean()\n",
    "        mean_rating_user = self.train[self.train.user_id==user_id].rating.mean()\n",
    "        return mean_rating_user + rating_num/rating_den"
   ]
  },
  {
   "cell_type": "code",
   "execution_count": null,
   "metadata": {},
   "outputs": [],
   "source": [
    "reco2 = CollaborativeFiltering_Ex1()\n",
    "reco2.fit(data_train)\n",
    "reco.predict_score(user_id = 2, movie_id = 1)"
   ]
  },
  {
   "cell_type": "code",
   "execution_count": null,
   "metadata": {},
   "outputs": [],
   "source": [
    "print('RMSE for Collaborative Recomender: %s' % evaluate(reco2,data_train,data_test))"
   ]
  },
  {
   "cell_type": "markdown",
   "metadata": {},
   "source": [
    "<div class=\"alert alert-success\">\n",
    "**EXERCISE 2:**<br>\n",
    "Modify the recomender system from the previous exercice, with one that in order to estimate the score of a movie B for the user A only uses the subset of the N most similar users to user A. Define N as a parameter of the Recoomender.\n",
    "</div>"
   ]
  },
  {
   "cell_type": "code",
   "execution_count": null,
   "metadata": {},
   "outputs": [],
   "source": [
    "class CollaborativeFiltering_Ex2(CollaborativeFiltering):\n",
    "    def predict_score(self, user_id, movie_id, N = 10):\n",
    "        totals={}\n",
    "        movie_users=self.train[self.train['movie_id'] ==movie_id]\n",
    "        rating_num=0.0\n",
    "        rating_den=0.0\n",
    "        allUsers=set(movie_users['user_id'])\n",
    "        # SELECT TOP USERS\n",
    "        top_users = sorted([(self.sim[user_id][other],other) for other in movie_users.user_id.values if other in self.sim[user_id]])[::-1]\n",
    "        for sim, other in top_users[:N]:\n",
    "            if user_id==other: continue \n",
    "            rating_num += self.sim[user_id][other] * float(movie_users[movie_users['user_id']==other]['rating'] - self.train[self.train['user_id']==other].rating.mean())  \n",
    "            rating_den += self.sim[user_id][other]\n",
    "        if rating_den==0: \n",
    "            if self.train.rating[self.train['movie_id']==movie_id].mean()>0:\n",
    "                # return the mean movie rating if there is no similar for the computation\n",
    "                return self.train.rating[self.train['movie_id']==movie_id].mean()\n",
    "            else:\n",
    "                # else return mean user rating \n",
    "                return self.train.rating[self.train['user_id']==user_id].mean()\n",
    "        mean_rating_user = self.train[self.train.user_id==user_id].rating.mean()\n",
    "        return mean_rating_user + rating_num/rating_den"
   ]
  },
  {
   "cell_type": "code",
   "execution_count": null,
   "metadata": {},
   "outputs": [],
   "source": [
    "reco3 = CollaborativeFiltering_Ex2()\n",
    "reco3.fit(data_train)\n",
    "reco.predict_score(user_id = 2, movie_id = 1)"
   ]
  },
  {
   "cell_type": "code",
   "execution_count": null,
   "metadata": {},
   "outputs": [],
   "source": [
    "print('RMSE for Collaborative Recomender V1: %s' % evaluate(reco,data_train,data_test))\n",
    "print('RMSE for Collaborative Recomender V2: %s' % evaluate(reco2,data_train,data_test))\n",
    "print('RMSE for Collaborative Recomender V3: %s' % evaluate(reco3,data_train,data_test))"
   ]
  },
  {
   "cell_type": "markdown",
   "metadata": {},
   "source": [
    "<div class  = \"alert alert-success\">**EXERCISE 4**<p>\n",
    "Modify the similarity function with the following:\n",
    "$$new\\_sim(a,b) = sim(a,b) * \\frac{min(50,|P_{ab}|)}{50} $$\n",
    "where $|P_{ab}|$ is the number of common items with user $a$ and user $b$\n",
    "</div>"
   ]
  },
  {
   "cell_type": "code",
   "execution_count": null,
   "metadata": {},
   "outputs": [],
   "source": [
    "# Returns a pearsonCorrealation-based similarity score for person1 and person2\n",
    "def SimPearsonCorrected(DataFrame,User1,User2,min_common_items=1,pref_common_items=20):\n",
    "    # GET MOVIES OF USER1\n",
    "    movies_user1=DataFrame[DataFrame['user_id'] ==User1 ]\n",
    "    # GET MOVIES OF USER2\n",
    "    movies_user2=DataFrame[DataFrame['user_id'] ==User2 ]\n",
    "    \n",
    "    # FIND SHARED FILMS\n",
    "    rep=pd.merge(movies_user1 ,movies_user2,on='movie_id')\n",
    "    if len(rep)==0:\n",
    "        return 0    \n",
    "    if(len(rep)<min_common_items):\n",
    "        return 0    \n",
    "    res=pearsonr(rep['rating_x'],rep['rating_y'])[0] * min(pref_common_items,len(rep))/pref_common_items\n",
    "    if(isnan(res)):\n",
    "        return 0\n",
    "    return res\n",
    "\n",
    "reco4 = CollaborativeFiltering3(data_train,similarity=SimPearsonCorrected,min_common_items=1,max_sim_users=10)\n",
    "reco4.learn()\n",
    "reco4.estimate(user_id=2,movie_id=1)"
   ]
  },
  {
   "cell_type": "code",
   "execution_count": null,
   "metadata": {},
   "outputs": [],
   "source": [
    "print('RMSE for Collaborative Recomender: %s' % evaluate(reco4,data_train,data_test))"
   ]
  },
  {
   "cell_type": "markdown",
   "metadata": {
    "collapsed": true
   },
   "source": [
    "<div class=\"alert alert-success\">\n",
    "**EXERCISE 5:**\n",
    "Create an item-based recommender system. <br>Instead of computing similiarity between users we need to compute similarities between items. \n",
    "</div>"
   ]
  },
  {
   "cell_type": "code",
   "execution_count": null,
   "metadata": {},
   "outputs": [],
   "source": [
    "class CollaborativeFilteringItemBased:\n",
    "    \"\"\" Item-Based Collaborative filtering using a custom sim(p,p'). \"\"\"\n",
    "    \n",
    "    def __init__(self,DataFrame, similarity=SimPearson,min_common_items=10,max_sim_movies=10):\n",
    "        \"\"\" Constructor \"\"\"\n",
    "        self.sim_method=similarity# Gets recommendations for a person by using a weighted average\n",
    "        self.df=DataFrame\n",
    "        self.sim = pd.DataFrame(np.sum([0]),columns=data_train.movie_id.unique(), index=data_train.movie_id.unique())\n",
    "        self.min_common_items=min_common_items\n",
    "        self.max_sim_movies=max_sim_movies\n",
    "\n",
    "    def learn(self):\n",
    "        \"\"\" Prepare data structures for estimation. Similarity matrix for users \"\"\"\n",
    "        allMovies=set(self.df['movie_id'])\n",
    "        self.sim = {}\n",
    "        for movie1 in allMovies:\n",
    "            self.sim.setdefault(movie1, {})\n",
    "            a=data_train[data_train['movie_id']==movie1][['user_id']]\n",
    "            data_reduced=pd.merge(data_train,a,on='user_id')\n",
    "            for movie2 in allMovies:\n",
    "                # no es comparem am nosalres mateixos\n",
    "                if movie1==movie2: continue\n",
    "                self.sim.setdefault(movie2, {})\n",
    "                if(self.sim[movie2].has_key(movie1)):continue # since is a simetric matrix\n",
    "                sim=self.sim_method(data_reduced,movie1,movie2,self.min_common_items)\n",
    "                #print movie1,movie2,sim\n",
    "                if(sim<0):\n",
    "                    self.sim[movie1][movie2]=0\n",
    "                    self.sim[movie2][movie1]=0\n",
    "                else:\n",
    "                    self.sim[movie1][movie2]=sim\n",
    "                    self.sim[movie2][movie1]=sim\n",
    "                \n",
    "                \n",
    "                \n",
    "    def estimate(self, user_id, movie_id):\n",
    "        \n",
    "        totals={}\n",
    "        movie_users=self.df[self.df['user_id'] ==user_id]\n",
    "        rating_num=0.0\n",
    "        rating_den=0.0\n",
    "        allMovies=set(movie_users['movie_id'])\n",
    "        \n",
    "        listOrdered=sorted([(self.sim[movie_id][other],other) for other in allMovies if movie_id!=other],reverse=True)\n",
    "        \n",
    "        for item in range(min(len(listOrdered),self.max_sim_movies)):\n",
    "            other=listOrdered[item][1]\n",
    "            rating_num += self.sim[movie_id][other] * (float(movie_users[movie_users['movie_id']==other]['rating']))\n",
    "            rating_den += self.sim[movie_id][other]\n",
    "        if rating_den==0: \n",
    "            if self.df.rating[self.df['movie_id']==movie_id].mean()>0:\n",
    "                # return the mean movie rating if there is no similar for the computation\n",
    "                return self.df.rating[self.df['movie_id']==movie_id].mean()\n",
    "            else:\n",
    "                # else return mean user rating \n",
    "                return self.df.rating[self.df['user_id']==user_id].mean()\n",
    "        return rating_num/rating_den"
   ]
  },
  {
   "cell_type": "code",
   "execution_count": null,
   "metadata": {},
   "outputs": [],
   "source": [
    "reco5 = CollaborativeFilteringItemBased(dataSmall_train,similarity=SimPearson,min_common_items=1,max_sim_movies=10)\n",
    "reco5.learn()\n",
    "reco5.estimate(user_id=2,movie_id=1)"
   ]
  }
 ],
 "metadata": {
  "anaconda-cloud": {},
  "kernelspec": {
   "display_name": "Python 3 (ipykernel)",
   "language": "python",
   "name": "python3"
  },
  "language_info": {
   "codemirror_mode": {
    "name": "ipython",
    "version": 3
   },
   "file_extension": ".py",
   "mimetype": "text/x-python",
   "name": "python",
   "nbconvert_exporter": "python",
   "pygments_lexer": "ipython3",
   "version": "3.8.8"
  }
 },
 "nbformat": 4,
 "nbformat_minor": 1
}
